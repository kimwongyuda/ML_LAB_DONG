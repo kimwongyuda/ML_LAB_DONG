{
 "cells": [
  {
   "cell_type": "code",
   "execution_count": 3,
   "metadata": {},
   "outputs": [
    {
     "name": "stdout",
     "output_type": "stream",
     "text": [
      "[('Before', 'O'), ('Wongyu', 'O'), ('begin', 'O'), (',', 'O'), ('I', 'O'), ('am', 'O'), ('honored', 'O'), ('to', 'O'), ('be', 'O'), ('here', 'O'), ('for', 'O'), ('this', 'O'), ('interview', 'O'), ('today', 'O'), ('.', 'O'), ('My', 'O'), ('greatest', 'O'), ('strength', 'O'), ('is', 'O'), ('my', 'O'), ('flexibility', 'O'), ('.', 'O'), ('Throughout', 'O'), ('education', 'O'), ('and', 'O'), ('internship', 'O'), (',', 'O'), ('I', 'O'), ('have', 'O'), ('experienced', 'O'), ('environment', 'O'), ('that', 'O'), ('changes', 'O'), ('from', 'O'), ('day', 'O'), ('to', 'O'), ('day', 'O'), ('.', 'O'), ('In', 'O'), ('this', 'O'), ('regard', 'O'), (',', 'O'), ('I', 'O'), ('’', 'O'), ('ve', 'O'), ('developed', 'O'), ('outstanding', 'O'), ('flexibility', 'O'), ('successfully', 'O'), ('that', 'O'), ('has', 'O'), ('enabled', 'O'), ('me', 'O'), ('to', 'O'), ('meet', 'O'), ('various', 'O'), ('demands', 'O'), ('on', 'O'), ('a', 'O'), ('job', 'O'), ('and', 'O'), ('it', 'O'), ('has', 'O'), ('allowed', 'O'), ('me', 'O'), ('to', 'O'), ('surpass', 'O'), ('my', 'O'), ('superior', 'O'), ('’', 'O'), ('s', 'O'), ('expectation', 'O'), ('.', 'O')]\n"
     ]
    }
   ],
   "source": [
    "from nltk.tag import StanfordNERTagger\n",
    "from nltk.tokenize import word_tokenize\n",
    "import os\n",
    "java_path = \"C:/Program Files/Java/jdk1.8.0_181/bin/java.exe\"\n",
    "os.environ['JAVAHOME'] = java_path\n",
    "\n",
    "STANFORD_NER_CLASSIFIER_PATH = 'stanford-ner-2018-02-27/classifiers/english.muc.7class.distsim.crf.ser.gz'\n",
    "STANFORD_NER_JAR_PATH = 'stanford-ner-2018-02-27/stanford-ner-3.9.1.jar'\n",
    "\n",
    "ner_tagger = StanfordNERTagger(STANFORD_NER_CLASSIFIER_PATH, STANFORD_NER_JAR_PATH)\n",
    "\n",
    "text = 'Before Wongyu begin, I am honored to be here for this interview today. My greatest strength is my flexibility. Throughout education and internship, I have experienced environment that changes from day to day. In this regard, I’ve developed outstanding flexibility successfully that has enabled me to meet various demands on a job and it has allowed me to surpass my superior’s expectation.'\n",
    "\n",
    "tokens = word_tokenize(text)\n",
    "print(ner_tagger.tag(tokens))"
   ]
  },
  {
   "cell_type": "code",
   "execution_count": null,
   "metadata": {},
   "outputs": [],
   "source": []
  }
 ],
 "metadata": {
  "kernelspec": {
   "display_name": "Python 3",
   "language": "python",
   "name": "python3"
  },
  "language_info": {
   "codemirror_mode": {
    "name": "ipython",
    "version": 3
   },
   "file_extension": ".py",
   "mimetype": "text/x-python",
   "name": "python",
   "nbconvert_exporter": "python",
   "pygments_lexer": "ipython3",
   "version": "3.6.5"
  }
 },
 "nbformat": 4,
 "nbformat_minor": 2
}
