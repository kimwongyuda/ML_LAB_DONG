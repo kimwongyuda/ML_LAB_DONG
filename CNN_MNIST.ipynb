{
 "cells": [
  {
   "cell_type": "code",
   "execution_count": 12,
   "metadata": {},
   "outputs": [],
   "source": [
    "from __future__ import absolute_import\n",
    "from __future__ import division\n",
    "from __future__ import print_function\n",
    "\n",
    "import argparse\n",
    "import sys"
   ]
  },
  {
   "cell_type": "code",
   "execution_count": 13,
   "metadata": {},
   "outputs": [],
   "source": [
    "from tensorflow.examples.tutorials.mnist import input_data\n",
    "import tensorflow as tf\n",
    "\n",
    "FLAGS = None"
   ]
  },
  {
   "cell_type": "code",
   "execution_count": 14,
   "metadata": {},
   "outputs": [],
   "source": [
    "def weight_variable(shape):\n",
    "    initial = tf.truncated_normal(shape, stddev=0.1)\n",
    "    return tf.Variable(initial, name='weights')"
   ]
  },
  {
   "cell_type": "code",
   "execution_count": 15,
   "metadata": {},
   "outputs": [],
   "source": [
    "def bias_variable(shape):\n",
    "    initial = tf.constant(0.1, shape=shape)\n",
    "    return tf.Variable(initial, name='bias')"
   ]
  },
  {
   "cell_type": "code",
   "execution_count": 16,
   "metadata": {},
   "outputs": [],
   "source": [
    "def conv2d(x, W):\n",
    "    return tf.nn.conv2d(x, W, strides=[1,1,1,1], padding='SAME', name='conv')"
   ]
  },
  {
   "cell_type": "code",
   "execution_count": 17,
   "metadata": {},
   "outputs": [],
   "source": [
    "def max_pool_2x2(x):\n",
    "    return tf.nn.max_pool(x, ksize=[1,2,2,1], strides=[1,2,2,1], padding='SAME', name='pool')"
   ]
  },
  {
   "cell_type": "code",
   "execution_count": 30,
   "metadata": {},
   "outputs": [
    {
     "name": "stdout",
     "output_type": "stream",
     "text": [
      "Extracting /tmp/tensorflow/mnist/input_data\\train-images-idx3-ubyte.gz\n",
      "Extracting /tmp/tensorflow/mnist/input_data\\train-labels-idx1-ubyte.gz\n",
      "Extracting /tmp/tensorflow/mnist/input_data\\t10k-images-idx3-ubyte.gz\n",
      "Extracting /tmp/tensorflow/mnist/input_data\\t10k-labels-idx1-ubyte.gz\n"
     ]
    },
    {
     "ename": "ValueError",
     "evalue": "No gradients provided for any variable, check your graph for ops that do not support gradients, between variables [\"<tf.Variable 'first_conv/weights:0' shape=(5, 5, 1, 32) dtype=float32_ref>\", \"<tf.Variable 'first_conv/bias:0' shape=(32,) dtype=float32_ref>\", \"<tf.Variable 'first_conv_1/weights:0' shape=(5, 5, 1, 32) dtype=float32_ref>\", \"<tf.Variable 'first_conv_1/bias:0' shape=(32,) dtype=float32_ref>\", \"<tf.Variable 'second_conv/weights:0' shape=(5, 5, 32, 64) dtype=float32_ref>\", \"<tf.Variable 'second_conv/bias:0' shape=(64,) dtype=float32_ref>\", \"<tf.Variable 'first_fc/weights:0' shape=(3211264,) dtype=float32_ref>\", \"<tf.Variable 'first_fc/bias:0' shape=(1024,) dtype=float32_ref>\", \"<tf.Variable 'first_conv_2/weights:0' shape=(5, 5, 1, 32) dtype=float32_ref>\", \"<tf.Variable 'first_conv_2/bias:0' shape=(32,) dtype=float32_ref>\", \"<tf.Variable 'second_conv_1/weights:0' shape=(5, 5, 32, 64) dtype=float32_ref>\", \"<tf.Variable 'second_conv_1/bias:0' shape=(64,) dtype=float32_ref>\", \"<tf.Variable 'first_fc_1/weights:0' shape=(3136, 1024) dtype=float32_ref>\", \"<tf.Variable 'first_fc_1/bias:0' shape=(1024,) dtype=float32_ref>\", \"<tf.Variable 'first_conv_3/weights:0' shape=(5, 5, 1, 32) dtype=float32_ref>\", \"<tf.Variable 'first_conv_3/bias:0' shape=(32,) dtype=float32_ref>\", \"<tf.Variable 'second_conv_2/weights:0' shape=(5, 5, 32, 64) dtype=float32_ref>\", \"<tf.Variable 'second_conv_2/bias:0' shape=(64,) dtype=float32_ref>\", \"<tf.Variable 'first_fc_2/weights:0' shape=(3136, 1024) dtype=float32_ref>\", \"<tf.Variable 'first_fc_2/bias:0' shape=(1024,) dtype=float32_ref>\", \"<tf.Variable 'second_fc/weights:0' shape=(1024, 10) dtype=float32_ref>\", \"<tf.Variable 'second_fc/bias:0' shape=(10,) dtype=float32_ref>\", \"<tf.Variable 'first_conv_4/weights:0' shape=(5, 5, 1, 32) dtype=float32_ref>\", \"<tf.Variable 'first_conv_4/bias:0' shape=(32,) dtype=float32_ref>\", \"<tf.Variable 'second_conv_3/weights:0' shape=(5, 5, 32, 64) dtype=float32_ref>\", \"<tf.Variable 'second_conv_3/bias:0' shape=(64,) dtype=float32_ref>\", \"<tf.Variable 'first_fc_3/weights:0' shape=(3136, 1024) dtype=float32_ref>\", \"<tf.Variable 'first_fc_3/bias:0' shape=(1024,) dtype=float32_ref>\", \"<tf.Variable 'second_fc_1/weights:0' shape=(1024, 10) dtype=float32_ref>\", \"<tf.Variable 'second_fc_1/bias:0' shape=(10,) dtype=float32_ref>\", \"<tf.Variable 'first_conv_5/weights:0' shape=(5, 5, 1, 32) dtype=float32_ref>\", \"<tf.Variable 'first_conv_5/bias:0' shape=(32,) dtype=float32_ref>\", \"<tf.Variable 'second_conv_4/weights:0' shape=(5, 5, 32, 64) dtype=float32_ref>\", \"<tf.Variable 'second_conv_4/bias:0' shape=(64,) dtype=float32_ref>\", \"<tf.Variable 'first_fc_4/weights:0' shape=(3136, 1024) dtype=float32_ref>\", \"<tf.Variable 'first_fc_4/bias:0' shape=(1024,) dtype=float32_ref>\", \"<tf.Variable 'second_fc_2/weights:0' shape=(1024, 10) dtype=float32_ref>\", \"<tf.Variable 'second_fc_2/bias:0' shape=(10,) dtype=float32_ref>\", \"<tf.Variable 'first_conv_6/weights:0' shape=(5, 5, 1, 32) dtype=float32_ref>\", \"<tf.Variable 'first_conv_6/bias:0' shape=(32,) dtype=float32_ref>\", \"<tf.Variable 'second_conv_5/weights:0' shape=(5, 5, 32, 64) dtype=float32_ref>\", \"<tf.Variable 'second_conv_5/bias:0' shape=(64,) dtype=float32_ref>\", \"<tf.Variable 'first_fc_5/weights:0' shape=(3136, 1024) dtype=float32_ref>\", \"<tf.Variable 'first_fc_5/bias:0' shape=(1024,) dtype=float32_ref>\", \"<tf.Variable 'second_fc_3/weights:0' shape=(1024, 10) dtype=float32_ref>\", \"<tf.Variable 'second_fc_3/bias:0' shape=(10,) dtype=float32_ref>\", \"<tf.Variable 'first_conv_7/weights:0' shape=(5, 5, 1, 32) dtype=float32_ref>\", \"<tf.Variable 'first_conv_7/bias:0' shape=(32,) dtype=float32_ref>\", \"<tf.Variable 'second_conv_6/weights:0' shape=(5, 5, 32, 64) dtype=float32_ref>\", \"<tf.Variable 'second_conv_6/bias:0' shape=(64,) dtype=float32_ref>\", \"<tf.Variable 'first_fc_6/weights:0' shape=(3136, 1024) dtype=float32_ref>\", \"<tf.Variable 'first_fc_6/bias:0' shape=(1024,) dtype=float32_ref>\", \"<tf.Variable 'second_fc_4/weights:0' shape=(1024, 10) dtype=float32_ref>\", \"<tf.Variable 'second_fc_4/bias:0' shape=(10,) dtype=float32_ref>\", \"<tf.Variable 'first_conv_8/weights:0' shape=(5, 5, 1, 32) dtype=float32_ref>\", \"<tf.Variable 'first_conv_8/bias:0' shape=(32,) dtype=float32_ref>\", \"<tf.Variable 'second_conv_7/weights:0' shape=(5, 5, 32, 64) dtype=float32_ref>\", \"<tf.Variable 'second_conv_7/bias:0' shape=(64,) dtype=float32_ref>\", \"<tf.Variable 'first_fc_7/weights:0' shape=(3136, 1024) dtype=float32_ref>\", \"<tf.Variable 'first_fc_7/bias:0' shape=(1024,) dtype=float32_ref>\", \"<tf.Variable 'second_fc_5/weights:0' shape=(1024, 10) dtype=float32_ref>\", \"<tf.Variable 'second_fc_5/bias:0' shape=(10,) dtype=float32_ref>\", \"<tf.Variable 'first_conv_9/weights:0' shape=(5, 5, 1, 32) dtype=float32_ref>\", \"<tf.Variable 'first_conv_9/bias:0' shape=(32,) dtype=float32_ref>\", \"<tf.Variable 'second_conv_8/weights:0' shape=(5, 5, 32, 64) dtype=float32_ref>\", \"<tf.Variable 'second_conv_8/bias:0' shape=(64,) dtype=float32_ref>\", \"<tf.Variable 'first_fc_8/weights:0' shape=(3136, 1024) dtype=float32_ref>\", \"<tf.Variable 'first_fc_8/bias:0' shape=(1024,) dtype=float32_ref>\", \"<tf.Variable 'second_fc_6/weights:0' shape=(1024, 10) dtype=float32_ref>\", \"<tf.Variable 'second_fc_6/bias:0' shape=(10,) dtype=float32_ref>\"] and loss Tensor(\"cross_ent_2:0\", shape=(), dtype=float32).",
     "output_type": "error",
     "traceback": [
      "\u001b[1;31m---------------------------------------------------------------------------\u001b[0m",
      "\u001b[1;31mValueError\u001b[0m                                Traceback (most recent call last)",
      "\u001b[1;32m<ipython-input-30-7db92580ba91>\u001b[0m in \u001b[0;36m<module>\u001b[1;34m()\u001b[0m\n\u001b[0;32m     72\u001b[0m                         help='Directory for storing input data')\n\u001b[0;32m     73\u001b[0m     \u001b[0mFLAGS\u001b[0m\u001b[1;33m,\u001b[0m \u001b[0munparsed\u001b[0m \u001b[1;33m=\u001b[0m \u001b[0mparser\u001b[0m\u001b[1;33m.\u001b[0m\u001b[0mparse_known_args\u001b[0m\u001b[1;33m(\u001b[0m\u001b[1;33m)\u001b[0m\u001b[1;33m\u001b[0m\u001b[0m\n\u001b[1;32m---> 74\u001b[1;33m     \u001b[0mtf\u001b[0m\u001b[1;33m.\u001b[0m\u001b[0mapp\u001b[0m\u001b[1;33m.\u001b[0m\u001b[0mrun\u001b[0m\u001b[1;33m(\u001b[0m\u001b[0mmain\u001b[0m\u001b[1;33m=\u001b[0m\u001b[0mmain\u001b[0m\u001b[1;33m,\u001b[0m \u001b[0margv\u001b[0m\u001b[1;33m=\u001b[0m\u001b[1;33m[\u001b[0m\u001b[0msys\u001b[0m\u001b[1;33m.\u001b[0m\u001b[0margv\u001b[0m\u001b[1;33m[\u001b[0m\u001b[1;36m0\u001b[0m\u001b[1;33m]\u001b[0m\u001b[1;33m]\u001b[0m\u001b[1;33m+\u001b[0m\u001b[0munparsed\u001b[0m\u001b[1;33m)\u001b[0m\u001b[1;33m\u001b[0m\u001b[0m\n\u001b[0m",
      "\u001b[1;32mC:\\ProgramData\\Anaconda3\\lib\\site-packages\\tensorflow\\python\\platform\\app.py\u001b[0m in \u001b[0;36mrun\u001b[1;34m(main, argv)\u001b[0m\n\u001b[0;32m    123\u001b[0m   \u001b[1;31m# Call the main function, passing through any arguments\u001b[0m\u001b[1;33m\u001b[0m\u001b[1;33m\u001b[0m\u001b[0m\n\u001b[0;32m    124\u001b[0m   \u001b[1;31m# to the final program.\u001b[0m\u001b[1;33m\u001b[0m\u001b[1;33m\u001b[0m\u001b[0m\n\u001b[1;32m--> 125\u001b[1;33m   \u001b[0m_sys\u001b[0m\u001b[1;33m.\u001b[0m\u001b[0mexit\u001b[0m\u001b[1;33m(\u001b[0m\u001b[0mmain\u001b[0m\u001b[1;33m(\u001b[0m\u001b[0margv\u001b[0m\u001b[1;33m)\u001b[0m\u001b[1;33m)\u001b[0m\u001b[1;33m\u001b[0m\u001b[0m\n\u001b[0m\u001b[0;32m    126\u001b[0m \u001b[1;33m\u001b[0m\u001b[0m\n",
      "\u001b[1;32m<ipython-input-30-7db92580ba91>\u001b[0m in \u001b[0;36mmain\u001b[1;34m(_)\u001b[0m\n\u001b[0;32m     41\u001b[0m \u001b[1;33m\u001b[0m\u001b[0m\n\u001b[0;32m     42\u001b[0m     \u001b[0mcross_entropy\u001b[0m \u001b[1;33m=\u001b[0m \u001b[0mtf\u001b[0m\u001b[1;33m.\u001b[0m\u001b[0mreduce_mean\u001b[0m\u001b[1;33m(\u001b[0m\u001b[0mtf\u001b[0m\u001b[1;33m.\u001b[0m\u001b[0mnn\u001b[0m\u001b[1;33m.\u001b[0m\u001b[0msoftmax_cross_entropy_with_logits\u001b[0m\u001b[1;33m(\u001b[0m\u001b[0mlabels\u001b[0m \u001b[1;33m=\u001b[0m \u001b[0my_conv\u001b[0m\u001b[1;33m,\u001b[0m\u001b[0mlogits\u001b[0m \u001b[1;33m=\u001b[0m \u001b[0my_\u001b[0m\u001b[1;33m)\u001b[0m\u001b[1;33m,\u001b[0m\u001b[0mname\u001b[0m\u001b[1;33m=\u001b[0m\u001b[1;34m'cross_ent'\u001b[0m\u001b[1;33m)\u001b[0m\u001b[1;33m\u001b[0m\u001b[0m\n\u001b[1;32m---> 43\u001b[1;33m     \u001b[0mtrain_step\u001b[0m \u001b[1;33m=\u001b[0m \u001b[0mtf\u001b[0m\u001b[1;33m.\u001b[0m\u001b[0mtrain\u001b[0m\u001b[1;33m.\u001b[0m\u001b[0mAdamOptimizer\u001b[0m\u001b[1;33m(\u001b[0m\u001b[1;36m1e-4\u001b[0m\u001b[1;33m)\u001b[0m\u001b[1;33m.\u001b[0m\u001b[0mminimize\u001b[0m\u001b[1;33m(\u001b[0m\u001b[0mcross_entropy\u001b[0m\u001b[1;33m)\u001b[0m\u001b[1;33m\u001b[0m\u001b[0m\n\u001b[0m\u001b[0;32m     44\u001b[0m \u001b[1;33m\u001b[0m\u001b[0m\n\u001b[0;32m     45\u001b[0m     \u001b[0mcorrect_prediction\u001b[0m \u001b[1;33m=\u001b[0m \u001b[0mtf\u001b[0m\u001b[1;33m.\u001b[0m\u001b[0mequal\u001b[0m\u001b[1;33m(\u001b[0m\u001b[0mtf\u001b[0m\u001b[1;33m.\u001b[0m\u001b[0margmax\u001b[0m\u001b[1;33m(\u001b[0m\u001b[0my_conv\u001b[0m\u001b[1;33m,\u001b[0m \u001b[1;36m1\u001b[0m\u001b[1;33m)\u001b[0m\u001b[1;33m,\u001b[0m \u001b[0mtf\u001b[0m\u001b[1;33m.\u001b[0m\u001b[0margmax\u001b[0m\u001b[1;33m(\u001b[0m\u001b[0my_\u001b[0m\u001b[1;33m,\u001b[0m \u001b[1;36m1\u001b[0m\u001b[1;33m)\u001b[0m\u001b[1;33m)\u001b[0m\u001b[1;33m\u001b[0m\u001b[0m\n",
      "\u001b[1;32mC:\\ProgramData\\Anaconda3\\lib\\site-packages\\tensorflow\\python\\training\\optimizer.py\u001b[0m in \u001b[0;36mminimize\u001b[1;34m(self, loss, global_step, var_list, gate_gradients, aggregation_method, colocate_gradients_with_ops, name, grad_loss)\u001b[0m\n\u001b[0;32m    404\u001b[0m           \u001b[1;34m\"No gradients provided for any variable, check your graph for ops\"\u001b[0m\u001b[1;33m\u001b[0m\u001b[0m\n\u001b[0;32m    405\u001b[0m           \u001b[1;34m\" that do not support gradients, between variables %s and loss %s.\"\u001b[0m \u001b[1;33m%\u001b[0m\u001b[1;33m\u001b[0m\u001b[0m\n\u001b[1;32m--> 406\u001b[1;33m           ([str(v) for _, v in grads_and_vars], loss))\n\u001b[0m\u001b[0;32m    407\u001b[0m \u001b[1;33m\u001b[0m\u001b[0m\n\u001b[0;32m    408\u001b[0m     return self.apply_gradients(grads_and_vars, global_step=global_step,\n",
      "\u001b[1;31mValueError\u001b[0m: No gradients provided for any variable, check your graph for ops that do not support gradients, between variables [\"<tf.Variable 'first_conv/weights:0' shape=(5, 5, 1, 32) dtype=float32_ref>\", \"<tf.Variable 'first_conv/bias:0' shape=(32,) dtype=float32_ref>\", \"<tf.Variable 'first_conv_1/weights:0' shape=(5, 5, 1, 32) dtype=float32_ref>\", \"<tf.Variable 'first_conv_1/bias:0' shape=(32,) dtype=float32_ref>\", \"<tf.Variable 'second_conv/weights:0' shape=(5, 5, 32, 64) dtype=float32_ref>\", \"<tf.Variable 'second_conv/bias:0' shape=(64,) dtype=float32_ref>\", \"<tf.Variable 'first_fc/weights:0' shape=(3211264,) dtype=float32_ref>\", \"<tf.Variable 'first_fc/bias:0' shape=(1024,) dtype=float32_ref>\", \"<tf.Variable 'first_conv_2/weights:0' shape=(5, 5, 1, 32) dtype=float32_ref>\", \"<tf.Variable 'first_conv_2/bias:0' shape=(32,) dtype=float32_ref>\", \"<tf.Variable 'second_conv_1/weights:0' shape=(5, 5, 32, 64) dtype=float32_ref>\", \"<tf.Variable 'second_conv_1/bias:0' shape=(64,) dtype=float32_ref>\", \"<tf.Variable 'first_fc_1/weights:0' shape=(3136, 1024) dtype=float32_ref>\", \"<tf.Variable 'first_fc_1/bias:0' shape=(1024,) dtype=float32_ref>\", \"<tf.Variable 'first_conv_3/weights:0' shape=(5, 5, 1, 32) dtype=float32_ref>\", \"<tf.Variable 'first_conv_3/bias:0' shape=(32,) dtype=float32_ref>\", \"<tf.Variable 'second_conv_2/weights:0' shape=(5, 5, 32, 64) dtype=float32_ref>\", \"<tf.Variable 'second_conv_2/bias:0' shape=(64,) dtype=float32_ref>\", \"<tf.Variable 'first_fc_2/weights:0' shape=(3136, 1024) dtype=float32_ref>\", \"<tf.Variable 'first_fc_2/bias:0' shape=(1024,) dtype=float32_ref>\", \"<tf.Variable 'second_fc/weights:0' shape=(1024, 10) dtype=float32_ref>\", \"<tf.Variable 'second_fc/bias:0' shape=(10,) dtype=float32_ref>\", \"<tf.Variable 'first_conv_4/weights:0' shape=(5, 5, 1, 32) dtype=float32_ref>\", \"<tf.Variable 'first_conv_4/bias:0' shape=(32,) dtype=float32_ref>\", \"<tf.Variable 'second_conv_3/weights:0' shape=(5, 5, 32, 64) dtype=float32_ref>\", \"<tf.Variable 'second_conv_3/bias:0' shape=(64,) dtype=float32_ref>\", \"<tf.Variable 'first_fc_3/weights:0' shape=(3136, 1024) dtype=float32_ref>\", \"<tf.Variable 'first_fc_3/bias:0' shape=(1024,) dtype=float32_ref>\", \"<tf.Variable 'second_fc_1/weights:0' shape=(1024, 10) dtype=float32_ref>\", \"<tf.Variable 'second_fc_1/bias:0' shape=(10,) dtype=float32_ref>\", \"<tf.Variable 'first_conv_5/weights:0' shape=(5, 5, 1, 32) dtype=float32_ref>\", \"<tf.Variable 'first_conv_5/bias:0' shape=(32,) dtype=float32_ref>\", \"<tf.Variable 'second_conv_4/weights:0' shape=(5, 5, 32, 64) dtype=float32_ref>\", \"<tf.Variable 'second_conv_4/bias:0' shape=(64,) dtype=float32_ref>\", \"<tf.Variable 'first_fc_4/weights:0' shape=(3136, 1024) dtype=float32_ref>\", \"<tf.Variable 'first_fc_4/bias:0' shape=(1024,) dtype=float32_ref>\", \"<tf.Variable 'second_fc_2/weights:0' shape=(1024, 10) dtype=float32_ref>\", \"<tf.Variable 'second_fc_2/bias:0' shape=(10,) dtype=float32_ref>\", \"<tf.Variable 'first_conv_6/weights:0' shape=(5, 5, 1, 32) dtype=float32_ref>\", \"<tf.Variable 'first_conv_6/bias:0' shape=(32,) dtype=float32_ref>\", \"<tf.Variable 'second_conv_5/weights:0' shape=(5, 5, 32, 64) dtype=float32_ref>\", \"<tf.Variable 'second_conv_5/bias:0' shape=(64,) dtype=float32_ref>\", \"<tf.Variable 'first_fc_5/weights:0' shape=(3136, 1024) dtype=float32_ref>\", \"<tf.Variable 'first_fc_5/bias:0' shape=(1024,) dtype=float32_ref>\", \"<tf.Variable 'second_fc_3/weights:0' shape=(1024, 10) dtype=float32_ref>\", \"<tf.Variable 'second_fc_3/bias:0' shape=(10,) dtype=float32_ref>\", \"<tf.Variable 'first_conv_7/weights:0' shape=(5, 5, 1, 32) dtype=float32_ref>\", \"<tf.Variable 'first_conv_7/bias:0' shape=(32,) dtype=float32_ref>\", \"<tf.Variable 'second_conv_6/weights:0' shape=(5, 5, 32, 64) dtype=float32_ref>\", \"<tf.Variable 'second_conv_6/bias:0' shape=(64,) dtype=float32_ref>\", \"<tf.Variable 'first_fc_6/weights:0' shape=(3136, 1024) dtype=float32_ref>\", \"<tf.Variable 'first_fc_6/bias:0' shape=(1024,) dtype=float32_ref>\", \"<tf.Variable 'second_fc_4/weights:0' shape=(1024, 10) dtype=float32_ref>\", \"<tf.Variable 'second_fc_4/bias:0' shape=(10,) dtype=float32_ref>\", \"<tf.Variable 'first_conv_8/weights:0' shape=(5, 5, 1, 32) dtype=float32_ref>\", \"<tf.Variable 'first_conv_8/bias:0' shape=(32,) dtype=float32_ref>\", \"<tf.Variable 'second_conv_7/weights:0' shape=(5, 5, 32, 64) dtype=float32_ref>\", \"<tf.Variable 'second_conv_7/bias:0' shape=(64,) dtype=float32_ref>\", \"<tf.Variable 'first_fc_7/weights:0' shape=(3136, 1024) dtype=float32_ref>\", \"<tf.Variable 'first_fc_7/bias:0' shape=(1024,) dtype=float32_ref>\", \"<tf.Variable 'second_fc_5/weights:0' shape=(1024, 10) dtype=float32_ref>\", \"<tf.Variable 'second_fc_5/bias:0' shape=(10,) dtype=float32_ref>\", \"<tf.Variable 'first_conv_9/weights:0' shape=(5, 5, 1, 32) dtype=float32_ref>\", \"<tf.Variable 'first_conv_9/bias:0' shape=(32,) dtype=float32_ref>\", \"<tf.Variable 'second_conv_8/weights:0' shape=(5, 5, 32, 64) dtype=float32_ref>\", \"<tf.Variable 'second_conv_8/bias:0' shape=(64,) dtype=float32_ref>\", \"<tf.Variable 'first_fc_8/weights:0' shape=(3136, 1024) dtype=float32_ref>\", \"<tf.Variable 'first_fc_8/bias:0' shape=(1024,) dtype=float32_ref>\", \"<tf.Variable 'second_fc_6/weights:0' shape=(1024, 10) dtype=float32_ref>\", \"<tf.Variable 'second_fc_6/bias:0' shape=(10,) dtype=float32_ref>\"] and loss Tensor(\"cross_ent_2:0\", shape=(), dtype=float32)."
     ]
    }
   ],
   "source": [
    "def main(_):\n",
    "    mnist = input_data.read_data_sets(FLAGS.data_dir, one_hot=True)\n",
    "    \n",
    "    x=tf.placeholder(tf.float32, [None, 784], name='x')\n",
    "    y_=tf.placeholder(tf.float32, [None, 10])\n",
    "    \n",
    "    with tf.name_scope('first_conv'):\n",
    "        #채널 수(데이터 수? 1=>32)\n",
    "        W_conv1 = weight_variable([5,5,1,32])\n",
    "        b_conv1 = bias_variable([32])\n",
    "        x_image = tf.reshape(x, [-1, 28, 28, 1])\n",
    "        h_conv1 = tf.nn.relu(conv2d(x_image, W_conv1) + b_conv1, name='act')\n",
    "    \n",
    "    with tf.name_scope('first_pool'):\n",
    "        h_pool1 = max_pool_2x2(h_conv1)\n",
    "    \n",
    "    with tf.name_scope('second_conv'):\n",
    "        #채널 수(데이터수? 32=>64)\n",
    "        W_conv2 = weight_variable([5,5,32,64])\n",
    "        b_conv2 = bias_variable([64])\n",
    "        h_conv2 = tf.nn.relu(conv2d(h_pool1, W_conv2)+b_conv2,name='act')\n",
    "    \n",
    "    with tf.name_scope('second_pool'):\n",
    "        h_pool2 = max_pool_2x2(h_conv2)\n",
    "    \n",
    "    with tf.name_scope('first_fc'):\n",
    "        W_fc1 = weight_variable([7*7*64,1024])\n",
    "        b_fc1 = bias_variable([1024])\n",
    "        h_pool2_flat = tf.reshape(h_pool2, [-1, 7*7*64])\n",
    "        h_fc1 = tf.nn.relu(tf.matmul(h_pool2_flat, W_fc1) + b_fc1, name='act')\n",
    "    \n",
    "    with tf.name_scope('drop_out'):\n",
    "        keep_prob = tf.placeholder(tf.float32)\n",
    "        h_fc1_drop = tf.nn.dropout(h_fc1, keep_prob)\n",
    "    \n",
    "    with tf.name_scope('second_fc'):\n",
    "        W_fc2 = weight_variable([1024,10])\n",
    "        b_fc2 = bias_variable([10])\n",
    "    \n",
    "    y_conv = tf.matmul(h_fc1_drop, W_fc2) + b_fc2\n",
    "    \n",
    "    cross_entropy = tf.reduce_mean(tf.nn.softmax_cross_entropy_with_logits(labels = y_conv,logits = y_),name='cross_ent')\n",
    "    train_step = tf.train.AdamOptimizer(1e-4).minimize(cross_entropy)\n",
    "    \n",
    "    correct_prediction = tf.equal(tf.argmax(y_conv, 1), tf.argmax(y_, 1))\n",
    "    accuracy = tf.reduce_mean(tf.cast(correct_prediction, tf.float32))\n",
    "    \n",
    "    logdir = './deep_graph'\n",
    "    \n",
    "    with tf.Session() as sess:\n",
    "        sess.run(tf.global_variables_initializer())\n",
    "        \n",
    "        summary_writer = tf.summary.FileWriter(logdir, sess.graph)\n",
    "        \n",
    "        for i in range(10000):\n",
    "            \n",
    "            batch = mnist.train.next_batch(100)\n",
    "            if i % 100 == 0:\n",
    "                #1.0 => dropout 없음(평가 시 이니! 완성된 모델 사용)\n",
    "                train_accuracy = accuracy.eval(feed_dict={x: batch[0], y_: batch[1],\n",
    "                                                         keep_prob: 1.0})\n",
    "                print(\"step %d, training accuracy %g\" % (i, train_accuracy))\n",
    "            train_step.run(feed_dict={x: batch[0], y_: batch[1], keep_prob: 0.5})\n",
    "        \n",
    "        print(\"test accuracy %g\" % accuracy.eval(feed_dict={x: mnist.test.images, \n",
    "                                                           y_: mnist.test.labels,\n",
    "                                                           keep_prob: 1.0}))\n",
    "if __name__== '__main__':\n",
    "    parser = argparse.ArgumentParser()\n",
    "    parser.add_argument('--data_dir', type=str,\n",
    "                       default = '/tmp/tensorflow/mnist/input_data',\n",
    "                        help='Directory for storing input data')\n",
    "    FLAGS, unparsed = parser.parse_known_args()\n",
    "    tf.app.run(main=main, argv=[sys.argv[0]]+unparsed)"
   ]
  },
  {
   "cell_type": "code",
   "execution_count": null,
   "metadata": {},
   "outputs": [],
   "source": []
  }
 ],
 "metadata": {
  "kernelspec": {
   "display_name": "Python 3",
   "language": "python",
   "name": "python3"
  },
  "language_info": {
   "codemirror_mode": {
    "name": "ipython",
    "version": 3
   },
   "file_extension": ".py",
   "mimetype": "text/x-python",
   "name": "python",
   "nbconvert_exporter": "python",
   "pygments_lexer": "ipython3",
   "version": "3.6.5"
  }
 },
 "nbformat": 4,
 "nbformat_minor": 2
}
