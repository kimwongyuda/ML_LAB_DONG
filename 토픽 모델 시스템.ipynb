{
 "cells": [
  {
   "cell_type": "code",
   "execution_count": 4,
   "metadata": {},
   "outputs": [],
   "source": [
    "from sklearn.decomposition import LatentDirichletAllocation\n",
    "from sklearn.feature_extraction.text import CountVectorizer\n",
    "from sklearn.feature_extraction.text import TfidfTransformer\n",
    "\n",
    "#단어를 묶기만 하면됨 = label X\n",
    "\n",
    "spam_header = 'spam\\t'\n",
    "no_spam_header = 'ham\\t'\n",
    "documents = []\n",
    "\n",
    "with open('SMSSpamCollection',\"r\", encoding=\"utf-8\") as file_handle:\n",
    "    for line in file_handle:\n",
    "        \n",
    "        if line.startswith(spam_header):\n",
    "            documents.append(line[len(spam_header):])\n",
    "        elif line.startswith(no_spam_header):\n",
    "            documents.append(line[len(no_spam_header):])\n",
    "            \n",
    "vectorizer = CountVectorizer(stop_words = 'english', max_features=2000) # 단어 횟수 피처 만들기\n",
    "term_counts = vectorizer.fit_transform(documents) # 문서에서 단어 횟수 센다.\n",
    "#print(term_counts)\n",
    "vocabulary = vectorizer.get_feature_names()\n",
    "#print(vocabulary)"
   ]
  },
  {
   "cell_type": "code",
   "execution_count": 18,
   "metadata": {},
   "outputs": [
    {
     "name": "stderr",
     "output_type": "stream",
     "text": [
      "C:\\ProgramData\\Anaconda3\\lib\\site-packages\\sklearn\\decomposition\\online_lda.py:294: DeprecationWarning: n_topics has been renamed to n_components in version 0.19 and will be removed in 0.21\n",
      "  DeprecationWarning)\n",
      "C:\\ProgramData\\Anaconda3\\lib\\site-packages\\sklearn\\decomposition\\online_lda.py:536: DeprecationWarning: The default value for 'learning_method' will be changed from 'online' to 'batch' in the release 0.20. This warning was introduced in 0.18.\n",
      "  DeprecationWarning)\n"
     ]
    },
    {
     "name": "stdout",
     "output_type": "stream",
     "text": [
      "topic 0: lor,think,wat,today,message,send,wait,thanks,leave,sure,\n",
      "topic 1: ur,txt,free,stop,msg,www,text,cash,reply,mobile,\n",
      "topic 2: free,ask,mobile,phone,smile,line,latest,camera,half,month,\n",
      "topic 3: good,dont,oh,just,number,sent,dun,like,money,house,\n",
      "topic 4: going,time,like,know,hey,want,cos,don,soon,work,\n",
      "topic 5: ok,pls,tell,hope,care,great,don,say,nice,ur,\n",
      "topic 6: come,got,ve,lol,just,help,year,really,getting,thing,\n",
      "topic 7: ll,sorry,later,night,tomorrow,got,yeah,text,right,pick,\n",
      "topic 8: love,need,hi,did,da,yes,home,im,babe,doing,\n",
      "topic 9: gt,lt,day,dear,life,morning,ur,happy,amp,went,\n"
     ]
    }
   ],
   "source": [
    "#얘도 빈도 학습, 하지만 비지도 학습으로 n개의 cluster를 구하는게 목적\n",
    "\n",
    "topic_model = LatentDirichletAllocation(n_topics=10)\n",
    "topic_model.fit(term_counts)\n",
    "\n",
    "#topic은 10개의 클러스터중 하나, 클러스터는 그 분포들된 것들(여러 feature들 = 여러 문서들) 중 중심인듯\n",
    "topics = topic_model.components_\n",
    "#print(topics)\n",
    "for topic_id, weights in enumerate(topics):\n",
    "    print('topic %d' % topic_id, end=': ')\n",
    "    #print(topic_id)\n",
    "    #weights = 나뉜 클러스터(토픽)의 feature라고 보면됨.\n",
    "    #print(len(weights))\n",
    "    pairs = []\n",
    "    for term_id, value in enumerate(weights):\n",
    "        pairs.append((abs(value),vocabulary[term_id]))\n",
    "    pairs.sort(key=lambda x: x[0], reverse=True)\n",
    "    for pair in pairs[:10]:\n",
    "        print(pair[1], end=\",\")\n",
    "    print()"
   ]
  },
  {
   "cell_type": "code",
   "execution_count": null,
   "metadata": {},
   "outputs": [],
   "source": []
  }
 ],
 "metadata": {
  "kernelspec": {
   "display_name": "Python 3",
   "language": "python",
   "name": "python3"
  },
  "language_info": {
   "codemirror_mode": {
    "name": "ipython",
    "version": 3
   },
   "file_extension": ".py",
   "mimetype": "text/x-python",
   "name": "python",
   "nbconvert_exporter": "python",
   "pygments_lexer": "ipython3",
   "version": "3.6.5"
  }
 },
 "nbformat": 4,
 "nbformat_minor": 2
}
