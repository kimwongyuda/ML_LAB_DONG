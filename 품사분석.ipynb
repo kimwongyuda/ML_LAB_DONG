{
 "cells": [
  {
   "cell_type": "code",
   "execution_count": 7,
   "metadata": {},
   "outputs": [
    {
     "name": "stdout",
     "output_type": "stream",
     "text": [
      "[nltk_data] Downloading package punkt to\n",
      "[nltk_data]     C:\\Users\\KIMWONGYU\\AppData\\Roaming\\nltk_data...\n",
      "[nltk_data]   Unzipping tokenizers\\punkt.zip.\n"
     ]
    },
    {
     "data": {
      "text/plain": [
       "True"
      ]
     },
     "execution_count": 7,
     "metadata": {},
     "output_type": "execute_result"
    }
   ],
   "source": [
    "import nltk\n",
    "nltk.download('punkt')"
   ]
  },
  {
   "cell_type": "code",
   "execution_count": 8,
   "metadata": {},
   "outputs": [
    {
     "name": "stdout",
     "output_type": "stream",
     "text": [
      "['Before', 'we', 'begin', ',', 'I', 'am', 'honored', 'to', 'be', 'here', 'for', 'this', 'interview', 'today', '.', 'My', 'greatest', 'strength', 'is', 'my', 'flexibility', '.', 'Throughout', 'education', 'and', 'internship', ',', 'I', 'have', 'experienced', 'environment', 'that', 'changes', 'from', 'day', 'to', 'day', '.', 'In', 'this', 'regard', ',', 'I', '’', 've', 'developed', 'outstanding', 'flexibility', 'successfully', 'that', 'has', 'enabled', 'me', 'to', 'meet', 'various', 'demands', 'on', 'a', 'job', 'and', 'it', 'has', 'allowed', 'me', 'to', 'surpass', 'my', 'superior', '’', 's', 'expectation', '.']\n",
      "\n"
     ]
    }
   ],
   "source": [
    "from nltk.tag import StanfordPOSTagger\n",
    "from nltk.tokenize import word_tokenize\n",
    "\n",
    "STANFORD_POS_MODEL_PATH = 'stanford-postagger-2018-02-27/models/english-bidirectional-distsim.tagger'\n",
    "STANFORD_POS_JAR_PATH = 'stanford-postagger-2018-02-27/stanford-postagger-3.9.1.jar'\n",
    "\n",
    "pos_tagger = StanfordPOSTagger(STANFORD_POS_MODEL_PATH, STANFORD_POS_JAR_PATH)\n",
    "\n",
    "text = 'Before we begin, I am honored to be here for this interview today. My greatest strength is my flexibility. Throughout education and internship, I have experienced environment that changes from day to day. In this regard, I’ve developed outstanding flexibility successfully that has enabled me to meet various demands on a job and it has allowed me to surpass my superior’s expectation.'\n",
    "\n",
    "tokens = word_tokenize(text)\n",
    "print(tokens)\n",
    "print()"
   ]
  },
  {
   "cell_type": "code",
   "execution_count": 14,
   "metadata": {},
   "outputs": [
    {
     "name": "stdout",
     "output_type": "stream",
     "text": [
      "[('Before', 'IN'), ('we', 'PRP'), ('begin', 'VBP'), (',', ','), ('I', 'PRP'), ('am', 'VBP'), ('honored', 'VBN'), ('to', 'TO'), ('be', 'VB'), ('here', 'RB'), ('for', 'IN'), ('this', 'DT'), ('interview', 'NN'), ('today', 'NN'), ('.', '.'), ('My', 'PRP$'), ('greatest', 'JJS'), ('strength', 'NN'), ('is', 'VBZ'), ('my', 'PRP$'), ('flexibility', 'NN'), ('.', '.'), ('Throughout', 'IN'), ('education', 'NN'), ('and', 'CC'), ('internship', 'NN'), (',', ','), ('I', 'PRP'), ('have', 'VBP'), ('experienced', 'VBN'), ('environment', 'NN'), ('that', 'IN'), ('changes', 'NNS'), ('from', 'IN'), ('day', 'NN'), ('to', 'TO'), ('day', 'NN'), ('.', '.'), ('In', 'IN'), ('this', 'DT'), ('regard', 'NN'), (',', ','), ('I', 'PRP'), ('’', 'VBP'), ('ve', 'RB'), ('developed', 'VBN'), ('outstanding', 'JJ'), ('flexibility', 'NN'), ('successfully', 'RB'), ('that', 'WDT'), ('has', 'VBZ'), ('enabled', 'VBN'), ('me', 'PRP'), ('to', 'TO'), ('meet', 'VB'), ('various', 'JJ'), ('demands', 'NNS'), ('on', 'IN'), ('a', 'DT'), ('job', 'NN'), ('and', 'CC'), ('it', 'PRP'), ('has', 'VBZ'), ('allowed', 'VBN'), ('me', 'PRP'), ('to', 'TO'), ('surpass', 'VB'), ('my', 'PRP$'), ('superior', 'JJ'), ('’', 'NN'), ('s', 'NN'), ('expectation', 'NN'), ('.', '.')]\n"
     ]
    }
   ],
   "source": [
    "import os\n",
    "java_path = \"C:/Program Files/Java/jdk1.8.0_181/bin/java.exe\"\n",
    "os.environ['JAVAHOME'] = java_path\n",
    "\n",
    "print(pos_tagger.tag(tokens))"
   ]
  },
  {
   "cell_type": "code",
   "execution_count": null,
   "metadata": {},
   "outputs": [],
   "source": []
  }
 ],
 "metadata": {
  "kernelspec": {
   "display_name": "Python 3",
   "language": "python",
   "name": "python3"
  },
  "language_info": {
   "codemirror_mode": {
    "name": "ipython",
    "version": 3
   },
   "file_extension": ".py",
   "mimetype": "text/x-python",
   "name": "python",
   "nbconvert_exporter": "python",
   "pygments_lexer": "ipython3",
   "version": "3.6.5"
  }
 },
 "nbformat": 4,
 "nbformat_minor": 2
}
